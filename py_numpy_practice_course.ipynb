{
  "nbformat": 4,
  "nbformat_minor": 0,
  "metadata": {
    "colab": {
      "provenance": [],
      "authorship_tag": "ABX9TyNdPVr5iylyuCgF/FSLL53K",
      "include_colab_link": true
    },
    "kernelspec": {
      "name": "python3",
      "display_name": "Python 3"
    },
    "language_info": {
      "name": "python"
    }
  },
  "cells": [
    {
      "cell_type": "markdown",
      "metadata": {
        "id": "view-in-github",
        "colab_type": "text"
      },
      "source": [
        "<a href=\"https://colab.research.google.com/github/sohan1423/Ai-Assistant-using-python/blob/main/py_numpy_practice_course.ipynb\" target=\"_parent\"><img src=\"https://colab.research.google.com/assets/colab-badge.svg\" alt=\"Open In Colab\"/></a>"
      ]
    },
    {
      "cell_type": "code",
      "execution_count": null,
      "metadata": {
        "id": "DIe-1Tr78Nck"
      },
      "outputs": [],
      "source": [
        "import numpy as np\n"
      ]
    },
    {
      "cell_type": "code",
      "source": [
        "np.array([1,3])"
      ],
      "metadata": {
        "colab": {
          "base_uri": "https://localhost:8080/"
        },
        "id": "f7rqjhvDA_6Z",
        "outputId": "c20ae7d1-562b-42c9-d3e4-3f53879b941e"
      },
      "execution_count": null,
      "outputs": [
        {
          "output_type": "execute_result",
          "data": {
            "text/plain": [
              "array([1, 3])"
            ]
          },
          "metadata": {},
          "execution_count": 2
        }
      ]
    },
    {
      "cell_type": "markdown",
      "source": [
        "#Dimention"
      ],
      "metadata": {
        "id": "QKoEkjTFB7oM"
      }
    },
    {
      "cell_type": "code",
      "source": [
        "\n",
        "arr = np.array([[[]]])\n",
        "arr.ndim\n",
        "arr.shape"
      ],
      "metadata": {
        "colab": {
          "base_uri": "https://localhost:8080/"
        },
        "id": "LW0cb53IB7KU",
        "outputId": "f337dd7a-f168-4c98-acd2-53c6c82272c6"
      },
      "execution_count": null,
      "outputs": [
        {
          "output_type": "execute_result",
          "data": {
            "text/plain": [
              "(1, 1, 0)"
            ]
          },
          "metadata": {},
          "execution_count": 3
        }
      ]
    },
    {
      "cell_type": "code",
      "source": [
        "range = np.arange(1,10,2)  # start , stop, step\n",
        "range"
      ],
      "metadata": {
        "colab": {
          "base_uri": "https://localhost:8080/"
        },
        "id": "_s8ye9b2CMD8",
        "outputId": "25708673-6a6a-44e5-f1be-01fe73285fd4"
      },
      "execution_count": null,
      "outputs": [
        {
          "output_type": "execute_result",
          "data": {
            "text/plain": [
              "array([1, 3, 5, 7, 9])"
            ]
          },
          "metadata": {},
          "execution_count": 4
        }
      ]
    },
    {
      "cell_type": "code",
      "source": [
        "arr = np.linspace(0,2,5)   #start, stop , num of value between start and stop\n",
        "arr"
      ],
      "metadata": {
        "colab": {
          "base_uri": "https://localhost:8080/"
        },
        "id": "2nYD22NUDwTL",
        "outputId": "d06b19f3-358d-4526-d8d9-fe29203b2b36"
      },
      "execution_count": null,
      "outputs": [
        {
          "output_type": "execute_result",
          "data": {
            "text/plain": [
              "array([0. , 0.5, 1. , 1.5, 2. ])"
            ]
          },
          "metadata": {},
          "execution_count": 5
        }
      ]
    },
    {
      "cell_type": "code",
      "source": [
        "arr = np.logspace(1,3,4)  #logarithomic ---10^1  to 10^3 ----between 4 points\n",
        "arr"
      ],
      "metadata": {
        "colab": {
          "base_uri": "https://localhost:8080/"
        },
        "id": "GS3mh5iKEGRC",
        "outputId": "e5bd41b7-9f32-43e4-e3dd-db228ae393a0"
      },
      "execution_count": null,
      "outputs": [
        {
          "output_type": "execute_result",
          "data": {
            "text/plain": [
              "array([  10.        ,   46.41588834,  215.443469  , 1000.        ])"
            ]
          },
          "metadata": {},
          "execution_count": 6
        }
      ]
    },
    {
      "cell_type": "code",
      "source": [
        "arr = np.zeros(5)  # print num of zero in array which I want\n",
        "arr"
      ],
      "metadata": {
        "colab": {
          "base_uri": "https://localhost:8080/"
        },
        "id": "hsDfGSezE23K",
        "outputId": "e8ef431a-b61c-4d2e-ca8a-1e9700728b4b"
      },
      "execution_count": null,
      "outputs": [
        {
          "output_type": "execute_result",
          "data": {
            "text/plain": [
              "array([0., 0., 0., 0., 0.])"
            ]
          },
          "metadata": {},
          "execution_count": 7
        }
      ]
    },
    {
      "cell_type": "code",
      "source": [
        "arr = np.zeros([2,3])\n",
        "arr"
      ],
      "metadata": {
        "colab": {
          "base_uri": "https://localhost:8080/"
        },
        "id": "tDyx_qA9F2-J",
        "outputId": "b4e2259b-09a0-4d81-af5e-6d9f6202162e"
      },
      "execution_count": null,
      "outputs": [
        {
          "output_type": "execute_result",
          "data": {
            "text/plain": [
              "array([[0., 0., 0.],\n",
              "       [0., 0., 0.]])"
            ]
          },
          "metadata": {},
          "execution_count": 8
        }
      ]
    },
    {
      "cell_type": "code",
      "source": [
        "arr = np.ones([3,3])\n",
        "arr"
      ],
      "metadata": {
        "colab": {
          "base_uri": "https://localhost:8080/"
        },
        "id": "DZVPpggfKJEy",
        "outputId": "0b018575-86cf-47c4-c9a7-a0feea1cf7c9"
      },
      "execution_count": null,
      "outputs": [
        {
          "output_type": "execute_result",
          "data": {
            "text/plain": [
              "array([[1., 1., 1.],\n",
              "       [1., 1., 1.],\n",
              "       [1., 1., 1.]])"
            ]
          },
          "metadata": {},
          "execution_count": 9
        }
      ]
    },
    {
      "cell_type": "code",
      "source": [
        "arr = np.full([2,4],4)  #(dim [], value )\n",
        "arr"
      ],
      "metadata": {
        "colab": {
          "base_uri": "https://localhost:8080/"
        },
        "id": "s-jL9fUWKnVd",
        "outputId": "cfc87872-2af1-4dd0-dd01-f82e3edca3bf"
      },
      "execution_count": null,
      "outputs": [
        {
          "output_type": "execute_result",
          "data": {
            "text/plain": [
              "array([[4, 4, 4, 4],\n",
              "       [4, 4, 4, 4]])"
            ]
          },
          "metadata": {},
          "execution_count": 10
        }
      ]
    },
    {
      "cell_type": "code",
      "source": [
        "arr = np.random.rand(2,3) # create random value using dim --no need square baraket\n",
        "arr"
      ],
      "metadata": {
        "colab": {
          "base_uri": "https://localhost:8080/"
        },
        "id": "RiAjCkRsL-6c",
        "outputId": "c0f7f63e-b4bd-42e4-b052-2838be5764d6"
      },
      "execution_count": null,
      "outputs": [
        {
          "output_type": "execute_result",
          "data": {
            "text/plain": [
              "array([[0.95300221, 0.08864232, 0.98871817],\n",
              "       [0.9535692 , 0.2401822 , 0.20793902]])"
            ]
          },
          "metadata": {},
          "execution_count": 11
        }
      ]
    },
    {
      "cell_type": "code",
      "source": [
        "arr = np.random.randn(2,3)  # also take neg value\n",
        "arr"
      ],
      "metadata": {
        "colab": {
          "base_uri": "https://localhost:8080/"
        },
        "id": "AXDXIJNSMksT",
        "outputId": "7e8f31a7-c117-44b4-8312-888bf3c9fd82"
      },
      "execution_count": null,
      "outputs": [
        {
          "output_type": "execute_result",
          "data": {
            "text/plain": [
              "array([[ 1.53025397,  0.05277348,  0.71927435],\n",
              "       [ 0.02592551, -0.39437879,  0.04930601]])"
            ]
          },
          "metadata": {},
          "execution_count": 12
        }
      ]
    },
    {
      "cell_type": "code",
      "source": [
        "arr = np.random.randint(10,89, (2,4)) # random int-------->basically range (start , stop) -----size means dim\n",
        "arr"
      ],
      "metadata": {
        "colab": {
          "base_uri": "https://localhost:8080/"
        },
        "id": "gBldA0VhNcDS",
        "outputId": "60e18055-2002-429a-a0f9-d0aef97b5819"
      },
      "execution_count": null,
      "outputs": [
        {
          "output_type": "execute_result",
          "data": {
            "text/plain": [
              "array([[35, 19, 33, 79],\n",
              "       [49, 67, 87, 62]])"
            ]
          },
          "metadata": {},
          "execution_count": 13
        }
      ]
    },
    {
      "cell_type": "code",
      "source": [
        "arr = np.array([\n",
        "                  [1,3,2],\n",
        "                  [3,5,7],\n",
        "                  [3,5,8]\n",
        "                ])\n",
        "print(\"Here the matrix\")\n",
        "print(arr)  # if I write print that erase the array write which wrote the sytem by default"
      ],
      "metadata": {
        "colab": {
          "base_uri": "https://localhost:8080/"
        },
        "id": "HTuIc1WjRftC",
        "outputId": "39784702-60f9-4b59-d5e3-30deac588b58"
      },
      "execution_count": null,
      "outputs": [
        {
          "output_type": "stream",
          "name": "stdout",
          "text": [
            "Here the matrix\n",
            "[[1 3 2]\n",
            " [3 5 7]\n",
            " [3 5 8]]\n"
          ]
        }
      ]
    },
    {
      "cell_type": "markdown",
      "source": [
        "#data type and type casting"
      ],
      "metadata": {
        "id": "cXFDGP7RPJQi"
      }
    },
    {
      "cell_type": "markdown",
      "source": [
        "# we can't convert string to int or float its called casting error"
      ],
      "metadata": {
        "id": "f_ibRzYxCEKt"
      }
    },
    {
      "cell_type": "code",
      "source": [
        "arr = np.array([1,3,3,4])\n",
        "arr.dtype"
      ],
      "metadata": {
        "colab": {
          "base_uri": "https://localhost:8080/"
        },
        "id": "rWUj8Guf_nnI",
        "outputId": "49a99b2a-eb36-4449-fcc6-2ae3fd6fdc85"
      },
      "execution_count": null,
      "outputs": [
        {
          "output_type": "execute_result",
          "data": {
            "text/plain": [
              "dtype('int64')"
            ]
          },
          "metadata": {},
          "execution_count": 15
        }
      ]
    },
    {
      "cell_type": "code",
      "source": [
        "arr = np.array([1,3,3,4], dtype = np.float64)\n",
        "arr.dtype"
      ],
      "metadata": {
        "colab": {
          "base_uri": "https://localhost:8080/"
        },
        "id": "Aaobn4oQAKym",
        "outputId": "47728880-d5ab-4418-c777-14c29725325b"
      },
      "execution_count": null,
      "outputs": [
        {
          "output_type": "execute_result",
          "data": {
            "text/plain": [
              "dtype('float64')"
            ]
          },
          "metadata": {},
          "execution_count": 16
        }
      ]
    },
    {
      "cell_type": "code",
      "source": [
        "# ----->type casting====> astype()\n",
        "\n",
        "arr = np.array([1,3,4])\n",
        "arr.dtype"
      ],
      "metadata": {
        "colab": {
          "base_uri": "https://localhost:8080/"
        },
        "id": "87G6QY-fAWKu",
        "outputId": "a3d76a75-1bc6-479b-f122-076a8c760841"
      },
      "execution_count": null,
      "outputs": [
        {
          "output_type": "execute_result",
          "data": {
            "text/plain": [
              "dtype('int64')"
            ]
          },
          "metadata": {},
          "execution_count": 17
        }
      ]
    },
    {
      "cell_type": "code",
      "source": [
        "new_arr = arr.astype(np.float64)\n",
        "new_arr"
      ],
      "metadata": {
        "colab": {
          "base_uri": "https://localhost:8080/"
        },
        "id": "P4avKFkYBQim",
        "outputId": "281b715c-727d-434c-b1b4-aef501d6f08b"
      },
      "execution_count": null,
      "outputs": [
        {
          "output_type": "execute_result",
          "data": {
            "text/plain": [
              "array([1., 3., 4.])"
            ]
          },
          "metadata": {},
          "execution_count": 18
        }
      ]
    },
    {
      "cell_type": "code",
      "source": [
        "new_arr.dtype"
      ],
      "metadata": {
        "colab": {
          "base_uri": "https://localhost:8080/"
        },
        "id": "LOqEa2z9BeDd",
        "outputId": "178eeaa5-98b1-4317-bdbe-cd81badce65a"
      },
      "execution_count": null,
      "outputs": [
        {
          "output_type": "execute_result",
          "data": {
            "text/plain": [
              "dtype('float64')"
            ]
          },
          "metadata": {},
          "execution_count": 19
        }
      ]
    },
    {
      "cell_type": "markdown",
      "source": [
        "#Arary Re-shaping -------->Re-shape, Ravel, Flatten"
      ],
      "metadata": {
        "id": "iU4GVjEBDPob"
      }
    },
    {
      "cell_type": "code",
      "source": [
        "\n",
        "\n",
        "arr = np.array([1, 2, 3, 4, 5, 6])\n",
        "\n",
        "reshaped = arr.reshape(2, 3)\n",
        "reshaped\n",
        "\n"
      ],
      "metadata": {
        "colab": {
          "base_uri": "https://localhost:8080/"
        },
        "id": "EG3H4SABBjdl",
        "outputId": "a9257198-53bb-41fa-b295-018ec044920b"
      },
      "execution_count": null,
      "outputs": [
        {
          "output_type": "execute_result",
          "data": {
            "text/plain": [
              "array([[1, 2, 3],\n",
              "       [4, 5, 6]])"
            ]
          },
          "metadata": {},
          "execution_count": 20
        }
      ]
    },
    {
      "cell_type": "code",
      "source": [
        "arr = np.array([[1, 2, 3], [4, 5, 6]])\n",
        "\n",
        "r = arr.ravel()\n",
        "print(\"Original:\\n\", arr)\n",
        "print(\"Raveled:\", r)\n",
        "\n",
        "# Change element in ravel\n",
        "r[0] = 99\n",
        "print(\"After change, Original:\\n\", arr)\n"
      ],
      "metadata": {
        "colab": {
          "base_uri": "https://localhost:8080/"
        },
        "id": "B9Vm9s5JOpWU",
        "outputId": "019fa797-0248-4865-a5ec-30bf87d4c435"
      },
      "execution_count": null,
      "outputs": [
        {
          "output_type": "stream",
          "name": "stdout",
          "text": [
            "Original:\n",
            " [[1 2 3]\n",
            " [4 5 6]]\n",
            "Raveled: [1 2 3 4 5 6]\n",
            "After change, Original:\n",
            " [[99  2  3]\n",
            " [ 4  5  6]]\n"
          ]
        }
      ]
    },
    {
      "cell_type": "code",
      "source": [
        "arr = np.array([[1, 2, 3], [4, 5, 6]])\n",
        "\n",
        "f = arr.flatten()\n",
        "print(\"Flattened:\", f)\n",
        "\n",
        "# Change element in flatten\n",
        "f[0] = 99\n",
        "print(\"After change, Flattened:\", f)\n",
        "print(\"Original:\\n\", arr)\n"
      ],
      "metadata": {
        "colab": {
          "base_uri": "https://localhost:8080/"
        },
        "id": "V20OqAt0O8sU",
        "outputId": "cd0e3326-c591-42c6-80c5-001f3148148b"
      },
      "execution_count": null,
      "outputs": [
        {
          "output_type": "stream",
          "name": "stdout",
          "text": [
            "Flattened: [1 2 3 4 5 6]\n",
            "After change, Flattened: [99  2  3  4  5  6]\n",
            "Original:\n",
            " [[1 2 3]\n",
            " [4 5 6]]\n"
          ]
        }
      ]
    },
    {
      "cell_type": "markdown",
      "source": [
        "#Arithmetic operation\n"
      ],
      "metadata": {
        "id": "BJGBMGJ4PIhB"
      }
    },
    {
      "cell_type": "code",
      "source": [
        "a = np.array([1,2,3])\n",
        "b = np.array([4,5,6])\n"
      ],
      "metadata": {
        "id": "9HJy-elqPIRR"
      },
      "execution_count": null,
      "outputs": []
    },
    {
      "cell_type": "code",
      "source": [
        "print(a+b)"
      ],
      "metadata": {
        "colab": {
          "base_uri": "https://localhost:8080/"
        },
        "id": "AqHS3KJxP7za",
        "outputId": "e221d0cc-69b7-43e2-c9af-068c10aec95c"
      },
      "execution_count": null,
      "outputs": [
        {
          "output_type": "stream",
          "name": "stdout",
          "text": [
            "[5 7 9]\n"
          ]
        }
      ]
    },
    {
      "cell_type": "code",
      "source": [
        "print(a-b)"
      ],
      "metadata": {
        "colab": {
          "base_uri": "https://localhost:8080/"
        },
        "id": "FKnkzInnP-PY",
        "outputId": "1e47bd0f-6744-4e04-d40a-c9260da74421"
      },
      "execution_count": null,
      "outputs": [
        {
          "output_type": "stream",
          "name": "stdout",
          "text": [
            "[-3 -3 -3]\n"
          ]
        }
      ]
    },
    {
      "cell_type": "code",
      "source": [
        "print(b-a)"
      ],
      "metadata": {
        "colab": {
          "base_uri": "https://localhost:8080/"
        },
        "id": "afb0h5YUQCdY",
        "outputId": "10277f0a-866d-4713-c9de-473e5f245cee"
      },
      "execution_count": null,
      "outputs": [
        {
          "output_type": "stream",
          "name": "stdout",
          "text": [
            "[3 3 3]\n"
          ]
        }
      ]
    },
    {
      "cell_type": "code",
      "source": [
        "print(a/b) # // for int division"
      ],
      "metadata": {
        "colab": {
          "base_uri": "https://localhost:8080/"
        },
        "id": "MIf9GJEtQFU4",
        "outputId": "429ff331-74d9-43a2-c4b9-29f45369f6b6"
      },
      "execution_count": null,
      "outputs": [
        {
          "output_type": "stream",
          "name": "stdout",
          "text": [
            "[0.25 0.4  0.5 ]\n"
          ]
        }
      ]
    },
    {
      "cell_type": "code",
      "source": [
        "print(a*b)"
      ],
      "metadata": {
        "colab": {
          "base_uri": "https://localhost:8080/"
        },
        "id": "b1sy_eAzQJoH",
        "outputId": "812a28df-4eed-4b60-fb4f-f02631c7ee42"
      },
      "execution_count": null,
      "outputs": [
        {
          "output_type": "stream",
          "name": "stdout",
          "text": [
            "[ 4 10 18]\n"
          ]
        }
      ]
    },
    {
      "cell_type": "code",
      "source": [
        "# reminder\n",
        "print(b%a)"
      ],
      "metadata": {
        "colab": {
          "base_uri": "https://localhost:8080/"
        },
        "id": "ZvHEpz4ZQMz4",
        "outputId": "c807b10e-65e6-4256-9534-832def96d8d3"
      },
      "execution_count": null,
      "outputs": [
        {
          "output_type": "stream",
          "name": "stdout",
          "text": [
            "[0 1 0]\n"
          ]
        }
      ]
    },
    {
      "cell_type": "code",
      "source": [
        "#exponent ->  power\n",
        "print(a**b)"
      ],
      "metadata": {
        "colab": {
          "base_uri": "https://localhost:8080/"
        },
        "id": "82tOUUx6Q0Xv",
        "outputId": "9237dfe0-e63d-4d6c-8983-c43800825f5f"
      },
      "execution_count": null,
      "outputs": [
        {
          "output_type": "stream",
          "name": "stdout",
          "text": [
            "[  1  32 729]\n"
          ]
        }
      ]
    },
    {
      "cell_type": "code",
      "source": [],
      "metadata": {
        "id": "jJup4IYdRFE_"
      },
      "execution_count": null,
      "outputs": []
    },
    {
      "cell_type": "markdown",
      "source": [
        "# universal fuction -----> ufuncs\n",
        "\n",
        "\n",
        "---\n",
        "\n"
      ],
      "metadata": {
        "id": "3pCtDEyCTwD3"
      }
    },
    {
      "cell_type": "code",
      "source": [
        "arr = np.array([1,4,9,16])\n"
      ],
      "metadata": {
        "id": "sxoxPDnCT1zk"
      },
      "execution_count": null,
      "outputs": []
    },
    {
      "cell_type": "code",
      "source": [
        "#square root -->n.sqrt()\n",
        "print(np.sqrt(arr))"
      ],
      "metadata": {
        "id": "OjScmImvUTHW",
        "colab": {
          "base_uri": "https://localhost:8080/"
        },
        "outputId": "fadb10a2-06de-41ff-af5a-44c6f87724bd"
      },
      "execution_count": null,
      "outputs": [
        {
          "output_type": "stream",
          "name": "stdout",
          "text": [
            "[1. 2. 3. 4.]\n"
          ]
        }
      ]
    },
    {
      "cell_type": "code",
      "source": [
        "#exponential --> np.exp-->e^x\n",
        "print(np.exp([1,2]))"
      ],
      "metadata": {
        "colab": {
          "base_uri": "https://localhost:8080/"
        },
        "id": "GN8E9ao_VF7T",
        "outputId": "76bdea08-5342-4eaf-fdc9-5d2cdafe1c90"
      },
      "execution_count": null,
      "outputs": [
        {
          "output_type": "stream",
          "name": "stdout",
          "text": [
            "[2.71828183 7.3890561 ]\n"
          ]
        }
      ]
    },
    {
      "cell_type": "code",
      "source": [
        "#sine function\n",
        "\n",
        "angles = np.array([0,np.pi/2,np.pi])\n",
        "print(np.sin(angles))"
      ],
      "metadata": {
        "colab": {
          "base_uri": "https://localhost:8080/"
        },
        "id": "CR6N47OdVgiM",
        "outputId": "32f6a296-0f81-41da-a3f6-d5d63151d478"
      },
      "execution_count": null,
      "outputs": [
        {
          "output_type": "stream",
          "name": "stdout",
          "text": [
            "[0.0000000e+00 1.0000000e+00 1.2246468e-16]\n"
          ]
        }
      ]
    },
    {
      "cell_type": "markdown",
      "source": [
        "#indexing and  scilicing"
      ],
      "metadata": {
        "id": "BuRSROvIWlya"
      }
    },
    {
      "cell_type": "code",
      "source": [
        "# neg indexing\n",
        "a = [1,2,3,4,5]\n"
      ],
      "metadata": {
        "id": "XCV3eqcaWfP6"
      },
      "execution_count": null,
      "outputs": []
    },
    {
      "cell_type": "code",
      "source": [
        "a[-1:-4:  -1]  #last -1 help to print neg indexing otherwise print the empty set"
      ],
      "metadata": {
        "colab": {
          "base_uri": "https://localhost:8080/"
        },
        "id": "RC6_BF5ChV5K",
        "outputId": "8577970f-0eab-4fda-a69a-7c2eceffe553"
      },
      "execution_count": null,
      "outputs": [
        {
          "output_type": "execute_result",
          "data": {
            "text/plain": [
              "[5, 4, 3]"
            ]
          },
          "metadata": {},
          "execution_count": 36
        }
      ]
    },
    {
      "cell_type": "code",
      "source": [
        "a[: : 2] # skip value"
      ],
      "metadata": {
        "colab": {
          "base_uri": "https://localhost:8080/"
        },
        "id": "OeWTAQdAhb2K",
        "outputId": "a119a63d-aaed-4caf-e15b-295e47dbc306"
      },
      "execution_count": null,
      "outputs": [
        {
          "output_type": "execute_result",
          "data": {
            "text/plain": [
              "[1, 3, 5]"
            ]
          },
          "metadata": {},
          "execution_count": 37
        }
      ]
    },
    {
      "cell_type": "code",
      "source": [
        "#applied in numpy array\n",
        "arr = np.array([1,2,3,4,5,6,7])\n",
        "arr[ : : 2]"
      ],
      "metadata": {
        "colab": {
          "base_uri": "https://localhost:8080/"
        },
        "id": "PuQj3rjxiD5C",
        "outputId": "c43fccee-21be-4b7e-ae4f-07c235bdf0bf"
      },
      "execution_count": null,
      "outputs": [
        {
          "output_type": "execute_result",
          "data": {
            "text/plain": [
              "array([1, 3, 5, 7])"
            ]
          },
          "metadata": {},
          "execution_count": 38
        }
      ]
    },
    {
      "cell_type": "code",
      "source": [
        "# neg indexing\n",
        "print(arr[-2])\n"
      ],
      "metadata": {
        "colab": {
          "base_uri": "https://localhost:8080/"
        },
        "id": "Rn9xe0_CihUx",
        "outputId": "a96eb2b8-38ec-4be4-bdbb-9cd612bf27fe"
      },
      "execution_count": null,
      "outputs": [
        {
          "output_type": "stream",
          "name": "stdout",
          "text": [
            "6\n"
          ]
        }
      ]
    },
    {
      "cell_type": "markdown",
      "source": [
        "#multi dim arry slicinf"
      ],
      "metadata": {
        "id": "VhiKFo-ijC_Q"
      }
    },
    {
      "cell_type": "code",
      "source": [
        "matrix =  np.array([\n",
        "    [1,2,3],[4,5,6],[7,8,9]\n",
        "])"
      ],
      "metadata": {
        "id": "ySJMjkFsiy-9"
      },
      "execution_count": null,
      "outputs": []
    },
    {
      "cell_type": "code",
      "source": [
        "print(matrix[1:3 , 1:3])"
      ],
      "metadata": {
        "colab": {
          "base_uri": "https://localhost:8080/"
        },
        "id": "XXnPIk_fjY6Y",
        "outputId": "f0af763a-ccf3-496b-e5f4-a274bed265ee"
      },
      "execution_count": null,
      "outputs": [
        {
          "output_type": "stream",
          "name": "stdout",
          "text": [
            "[[5 6]\n",
            " [8 9]]\n"
          ]
        }
      ]
    },
    {
      "cell_type": "code",
      "source": [
        "#Advance indexing ---->Build in function to perfoem indexing and sclicing\n",
        "arr = np.array([1,2,3,4,5,6,7])\n",
        "a = [0,2]\n",
        "print(np.take(arr,a))"
      ],
      "metadata": {
        "colab": {
          "base_uri": "https://localhost:8080/"
        },
        "id": "-oFnwdjDjcPJ",
        "outputId": "6238a07d-1f5b-402f-d974-10f0e8fb8ebf"
      },
      "execution_count": null,
      "outputs": [
        {
          "output_type": "stream",
          "name": "stdout",
          "text": [
            "[1 3]\n"
          ]
        }
      ]
    },
    {
      "cell_type": "markdown",
      "source": [
        "#Iterating with nditer"
      ],
      "metadata": {
        "id": "BfldmNMOmhFH"
      }
    },
    {
      "cell_type": "code",
      "source": [
        "arr =([\n",
        "    [1,2], [3,4]\n",
        "])\n"
      ],
      "metadata": {
        "id": "6x1bAb-3mZ-O"
      },
      "execution_count": null,
      "outputs": []
    },
    {
      "cell_type": "code",
      "source": [
        "for x in np.nditer(arr):\n",
        "  print(x, end = \" \")"
      ],
      "metadata": {
        "colab": {
          "base_uri": "https://localhost:8080/"
        },
        "id": "417Y8xn7m_vt",
        "outputId": "741c3dcc-0109-4859-ad81-45d8b938aa56"
      },
      "execution_count": null,
      "outputs": [
        {
          "output_type": "stream",
          "name": "stdout",
          "text": [
            "(array(1), array(3)) (array(2), array(4)) "
          ]
        }
      ]
    },
    {
      "cell_type": "markdown",
      "source": [
        "#views vs Copy"
      ],
      "metadata": {
        "id": "7t6ridAcp5ml"
      }
    },
    {
      "cell_type": "code",
      "source": [
        "arr = np.array([1,2,3,4,5,6])\n",
        "view = arr[1:6]    # when we cnanges view is[3]----its range will effect\n",
        "\n",
        "view\n"
      ],
      "metadata": {
        "id": "SEIZfaQEnYR1",
        "colab": {
          "base_uri": "https://localhost:8080/"
        },
        "outputId": "9ad72b37-1194-49c6-e14e-b5704e50033a"
      },
      "execution_count": null,
      "outputs": [
        {
          "output_type": "execute_result",
          "data": {
            "text/plain": [
              "array([2, 3, 4, 5, 6])"
            ]
          },
          "metadata": {},
          "execution_count": 45
        }
      ]
    },
    {
      "cell_type": "code",
      "source": [
        "view[2] = 200"
      ],
      "metadata": {
        "id": "GkfmuNflu6HA"
      },
      "execution_count": null,
      "outputs": []
    },
    {
      "cell_type": "code",
      "source": [
        "arr"
      ],
      "metadata": {
        "colab": {
          "base_uri": "https://localhost:8080/"
        },
        "id": "7ph11R7evDdY",
        "outputId": "7e26faa2-b27e-4a5a-d06a-a2940997b6d0"
      },
      "execution_count": null,
      "outputs": [
        {
          "output_type": "execute_result",
          "data": {
            "text/plain": [
              "array([  1,   2,   3, 200,   5,   6])"
            ]
          },
          "metadata": {},
          "execution_count": 47
        }
      ]
    },
    {
      "cell_type": "code",
      "source": [
        "copy = arr[1:3].copy()\n",
        "copy"
      ],
      "metadata": {
        "id": "-nwu44ELvL3Q",
        "colab": {
          "base_uri": "https://localhost:8080/"
        },
        "outputId": "2a751d97-dc3f-40c5-ca4c-11637a2c135b"
      },
      "execution_count": null,
      "outputs": [
        {
          "output_type": "execute_result",
          "data": {
            "text/plain": [
              "array([2, 3])"
            ]
          },
          "metadata": {},
          "execution_count": 48
        }
      ]
    },
    {
      "cell_type": "markdown",
      "source": [
        "#Transpose"
      ],
      "metadata": {
        "id": "g4g_iDk8TVHQ"
      }
    },
    {
      "cell_type": "code",
      "source": [
        "arr  = np.array([[1,3],[4,5]])\n",
        "arr"
      ],
      "metadata": {
        "colab": {
          "base_uri": "https://localhost:8080/"
        },
        "id": "OM-qr3-QTNIZ",
        "outputId": "8a2f2815-0bcc-4b68-c252-a421eada2dc0"
      },
      "execution_count": null,
      "outputs": [
        {
          "output_type": "execute_result",
          "data": {
            "text/plain": [
              "array([[1, 3],\n",
              "       [4, 5]])"
            ]
          },
          "metadata": {},
          "execution_count": 49
        }
      ]
    },
    {
      "cell_type": "code",
      "source": [
        "print(arr.transpose())"
      ],
      "metadata": {
        "colab": {
          "base_uri": "https://localhost:8080/"
        },
        "id": "C88MzemtT2HX",
        "outputId": "3f38b4b3-5273-4f92-9960-ff630e21cf7b"
      },
      "execution_count": null,
      "outputs": [
        {
          "output_type": "stream",
          "name": "stdout",
          "text": [
            "[[1 4]\n",
            " [3 5]]\n"
          ]
        }
      ]
    },
    {
      "cell_type": "markdown",
      "source": [
        "#swapaxes--> swap 2 specific access"
      ],
      "metadata": {
        "id": "-JLHx9BPUA97"
      }
    },
    {
      "cell_type": "code",
      "source": [
        "arr = np.array([[[1,2],[3,4]]])\n",
        "arr.shape"
      ],
      "metadata": {
        "colab": {
          "base_uri": "https://localhost:8080/"
        },
        "id": "jTPitQ8tT9hW",
        "outputId": "e4ac954a-f8ac-41a3-abc5-46f1b62099fe"
      },
      "execution_count": null,
      "outputs": [
        {
          "output_type": "execute_result",
          "data": {
            "text/plain": [
              "(1, 2, 2)"
            ]
          },
          "metadata": {},
          "execution_count": 51
        }
      ]
    },
    {
      "cell_type": "code",
      "source": [
        "swap = np.swapaxes(arr,0,1)\n",
        "swap.shape"
      ],
      "metadata": {
        "colab": {
          "base_uri": "https://localhost:8080/"
        },
        "id": "3mcGgkiCUY8_",
        "outputId": "88a772fd-9daf-4467-c0e0-89103235856f"
      },
      "execution_count": null,
      "outputs": [
        {
          "output_type": "execute_result",
          "data": {
            "text/plain": [
              "(2, 1, 2)"
            ]
          },
          "metadata": {},
          "execution_count": 52
        }
      ]
    },
    {
      "cell_type": "markdown",
      "source": [
        "#concatenation"
      ],
      "metadata": {
        "id": "ucX1QivxVRyp"
      }
    },
    {
      "cell_type": "code",
      "source": [
        "a = np.array([2,4])\n",
        "b = np.array([5,6])\n",
        "\n"
      ],
      "metadata": {
        "id": "vGUnQmXOVENG"
      },
      "execution_count": null,
      "outputs": []
    },
    {
      "cell_type": "code",
      "source": [
        "combine = np.concatenate((a,b))\n",
        "combine"
      ],
      "metadata": {
        "colab": {
          "base_uri": "https://localhost:8080/"
        },
        "id": "s0eh2vV7ZZIy",
        "outputId": "918d2293-96cb-4c3c-c36f-59b359f1fb6e"
      },
      "execution_count": null,
      "outputs": [
        {
          "output_type": "execute_result",
          "data": {
            "text/plain": [
              "array([2, 4, 5, 6])"
            ]
          },
          "metadata": {},
          "execution_count": 54
        }
      ]
    },
    {
      "cell_type": "code",
      "source": [
        "# v starck -other way o omplement (vertical stack)\n",
        "arr1  = np.array([[1,2], [3,4]])\n",
        "arr2  = np.array([[5,6], [7,8]])\n"
      ],
      "metadata": {
        "id": "GYTVvAz5ZjmC"
      },
      "execution_count": null,
      "outputs": []
    },
    {
      "cell_type": "code",
      "source": [
        "print(np.vstack((arr1,arr2)))"
      ],
      "metadata": {
        "colab": {
          "base_uri": "https://localhost:8080/"
        },
        "id": "yKyUyHfSaJHq",
        "outputId": "f6151bfd-05c1-42d0-d742-2a2f6744e2e3"
      },
      "execution_count": null,
      "outputs": [
        {
          "output_type": "stream",
          "name": "stdout",
          "text": [
            "[[1 2]\n",
            " [3 4]\n",
            " [5 6]\n",
            " [7 8]]\n"
          ]
        }
      ]
    },
    {
      "cell_type": "code",
      "source": [
        "#h stack-------(horizontal stack )\n",
        "print(np.hstack((arr1,arr2)))\n"
      ],
      "metadata": {
        "id": "dwoArsj4a6qB",
        "colab": {
          "base_uri": "https://localhost:8080/"
        },
        "outputId": "b70fb37f-5447-487f-ca74-798aefb7eafb"
      },
      "execution_count": null,
      "outputs": [
        {
          "output_type": "stream",
          "name": "stdout",
          "text": [
            "[[1 2 5 6]\n",
            " [3 4 7 8]]\n"
          ]
        }
      ]
    },
    {
      "cell_type": "code",
      "source": [
        "print(np.stack((arr1,arr2), axis = 0))  #row wise"
      ],
      "metadata": {
        "colab": {
          "base_uri": "https://localhost:8080/"
        },
        "id": "P9wgOsV-dN45",
        "outputId": "9cda2356-1334-4b9b-c26c-0f6b55e5c51c"
      },
      "execution_count": null,
      "outputs": [
        {
          "output_type": "stream",
          "name": "stdout",
          "text": [
            "[[[1 2]\n",
            "  [3 4]]\n",
            "\n",
            " [[5 6]\n",
            "  [7 8]]]\n"
          ]
        }
      ]
    },
    {
      "cell_type": "code",
      "source": [
        "print(np.stack((arr1,arr2), axis = 1))    #  join coloumn wise"
      ],
      "metadata": {
        "colab": {
          "base_uri": "https://localhost:8080/"
        },
        "id": "JrmCUSyVdrs_",
        "outputId": "7b8a1aa2-3c4c-497b-dc03-37c46bbd3e5c"
      },
      "execution_count": null,
      "outputs": [
        {
          "output_type": "stream",
          "name": "stdout",
          "text": [
            "[[[1 2]\n",
            "  [5 6]]\n",
            "\n",
            " [[3 4]\n",
            "  [7 8]]]\n"
          ]
        }
      ]
    },
    {
      "cell_type": "code",
      "source": [
        "#Repeating :\n",
        "arr =  np.array([1,2,3])\n",
        "print(np.repeat(arr,2))"
      ],
      "metadata": {
        "id": "rgxaiC8rd8aP",
        "colab": {
          "base_uri": "https://localhost:8080/"
        },
        "outputId": "3a3611fc-b0b2-41d8-9263-70d82b82a3f8"
      },
      "execution_count": null,
      "outputs": [
        {
          "output_type": "stream",
          "name": "stdout",
          "text": [
            "[1 1 2 2 3 3]\n"
          ]
        }
      ]
    },
    {
      "cell_type": "code",
      "source": [
        "#tile----repeating whole array\n",
        "print(np.tile(arr,3))"
      ],
      "metadata": {
        "colab": {
          "base_uri": "https://localhost:8080/"
        },
        "id": "5cJBFK6hC8F5",
        "outputId": "9c0fd56c-4d0d-484b-cb3e-bb4c05231c84"
      },
      "execution_count": null,
      "outputs": [
        {
          "output_type": "stream",
          "name": "stdout",
          "text": [
            "[1 2 3 1 2 3 1 2 3]\n"
          ]
        }
      ]
    },
    {
      "cell_type": "code",
      "source": [
        "#Aggregate function\n",
        "arr = np.array([1,2,3])\n",
        "print(np.sum(arr))"
      ],
      "metadata": {
        "colab": {
          "base_uri": "https://localhost:8080/"
        },
        "id": "TM3bC2wWGjBN",
        "outputId": "13981186-9244-426e-af40-c32cf81310fd"
      },
      "execution_count": null,
      "outputs": [
        {
          "output_type": "stream",
          "name": "stdout",
          "text": [
            "6\n"
          ]
        }
      ]
    },
    {
      "cell_type": "code",
      "source": [
        "np.mean(arr)"
      ],
      "metadata": {
        "colab": {
          "base_uri": "https://localhost:8080/"
        },
        "id": "JtdpKx1PHF-k",
        "outputId": "3b9abb6a-50dd-4782-ac83-5e0cbd0bebfc"
      },
      "execution_count": null,
      "outputs": [
        {
          "output_type": "execute_result",
          "data": {
            "text/plain": [
              "np.float64(2.0)"
            ]
          },
          "metadata": {},
          "execution_count": 63
        }
      ]
    },
    {
      "cell_type": "code",
      "source": [
        "np.median(arr)"
      ],
      "metadata": {
        "colab": {
          "base_uri": "https://localhost:8080/"
        },
        "id": "NffBVL89HLyy",
        "outputId": "be06ff63-a9aa-4c96-a8ae-15902caf1447"
      },
      "execution_count": null,
      "outputs": [
        {
          "output_type": "execute_result",
          "data": {
            "text/plain": [
              "np.float64(2.0)"
            ]
          },
          "metadata": {},
          "execution_count": 64
        }
      ]
    },
    {
      "cell_type": "code",
      "source": [
        "#standard division\n",
        "np.std(arr)"
      ],
      "metadata": {
        "colab": {
          "base_uri": "https://localhost:8080/"
        },
        "id": "Od9BUkoRHTxa",
        "outputId": "70fbb291-d445-4c8f-b919-9269ae9f5af4"
      },
      "execution_count": null,
      "outputs": [
        {
          "output_type": "execute_result",
          "data": {
            "text/plain": [
              "np.float64(0.816496580927726)"
            ]
          },
          "metadata": {},
          "execution_count": 65
        }
      ]
    },
    {
      "cell_type": "code",
      "source": [
        "#variance\n",
        "np.var(arr)"
      ],
      "metadata": {
        "colab": {
          "base_uri": "https://localhost:8080/"
        },
        "id": "hd4kxpHpHf05",
        "outputId": "265d2a93-043b-4483-dfff-b43c62dfac04"
      },
      "execution_count": null,
      "outputs": [
        {
          "output_type": "execute_result",
          "data": {
            "text/plain": [
              "np.float64(0.6666666666666666)"
            ]
          },
          "metadata": {},
          "execution_count": 66
        }
      ]
    },
    {
      "cell_type": "code",
      "source": [
        "np.min(arr)"
      ],
      "metadata": {
        "colab": {
          "base_uri": "https://localhost:8080/"
        },
        "id": "nw5gq5tsHuEj",
        "outputId": "a5ed21a4-9d34-4934-d9bc-db482721ee06"
      },
      "execution_count": null,
      "outputs": [
        {
          "output_type": "execute_result",
          "data": {
            "text/plain": [
              "np.int64(1)"
            ]
          },
          "metadata": {},
          "execution_count": 67
        }
      ]
    },
    {
      "cell_type": "code",
      "source": [
        "np.max(arr)"
      ],
      "metadata": {
        "colab": {
          "base_uri": "https://localhost:8080/"
        },
        "id": "MwvGCDdcJmJg",
        "outputId": "2c68c6d1-004f-47e6-d6fa-c1ee50560db3"
      },
      "execution_count": null,
      "outputs": [
        {
          "output_type": "execute_result",
          "data": {
            "text/plain": [
              "np.int64(3)"
            ]
          },
          "metadata": {},
          "execution_count": 68
        }
      ]
    },
    {
      "cell_type": "code",
      "source": [
        "matrix"
      ],
      "metadata": {
        "colab": {
          "base_uri": "https://localhost:8080/"
        },
        "id": "U6lw5ByKJqin",
        "outputId": "31a77016-fc3a-42ed-d0af-327409e045e0"
      },
      "execution_count": null,
      "outputs": [
        {
          "output_type": "execute_result",
          "data": {
            "text/plain": [
              "array([[1, 2, 3],\n",
              "       [4, 5, 6],\n",
              "       [7, 8, 9]])"
            ]
          },
          "metadata": {},
          "execution_count": 69
        }
      ]
    },
    {
      "cell_type": "code",
      "source": [
        "#sum column wise or row wise\n",
        "print(np.sum(matrix, axis = 0)) #row sum\n",
        "print(np.sum(matrix, axis = 1)) #coloumn sum"
      ],
      "metadata": {
        "colab": {
          "base_uri": "https://localhost:8080/"
        },
        "id": "9uD6rz8aK2B_",
        "outputId": "ef4b350a-c626-47df-b734-cac2c03da6ed"
      },
      "execution_count": null,
      "outputs": [
        {
          "output_type": "stream",
          "name": "stdout",
          "text": [
            "[12 15 18]\n",
            "[ 6 15 24]\n"
          ]
        }
      ]
    },
    {
      "cell_type": "code",
      "source": [
        "#cumulative operation -----> runing total\n",
        "arr\n"
      ],
      "metadata": {
        "colab": {
          "base_uri": "https://localhost:8080/"
        },
        "id": "5xxXUJGBLR2F",
        "outputId": "1bd50501-1d37-4d71-f0f6-e6ecc03a7104"
      },
      "execution_count": null,
      "outputs": [
        {
          "output_type": "execute_result",
          "data": {
            "text/plain": [
              "array([1, 2, 3])"
            ]
          },
          "metadata": {},
          "execution_count": 71
        }
      ]
    },
    {
      "cell_type": "code",
      "source": [
        "print(np.cumsum(arr))"
      ],
      "metadata": {
        "colab": {
          "base_uri": "https://localhost:8080/"
        },
        "id": "XeilWn_qL69M",
        "outputId": "9c61284b-4bcc-4ea5-d35e-37d50b746c6a"
      },
      "execution_count": null,
      "outputs": [
        {
          "output_type": "stream",
          "name": "stdout",
          "text": [
            "[1 3 6]\n"
          ]
        }
      ]
    },
    {
      "cell_type": "code",
      "source": [
        "print(np.cumprod(arr))# 1, 1*2=2, 1*2*3=6"
      ],
      "metadata": {
        "colab": {
          "base_uri": "https://localhost:8080/"
        },
        "id": "VeUVBDkzMDbE",
        "outputId": "4702d3a9-34e6-483c-b8c3-84a3ac458cc0"
      },
      "execution_count": null,
      "outputs": [
        {
          "output_type": "stream",
          "name": "stdout",
          "text": [
            "[1 2 6]\n"
          ]
        }
      ]
    },
    {
      "cell_type": "code",
      "source": [
        "#where\n",
        "arr"
      ],
      "metadata": {
        "colab": {
          "base_uri": "https://localhost:8080/"
        },
        "id": "LX3V-MHKMRGr",
        "outputId": "0a41533b-b847-463c-d346-a905755767c7"
      },
      "execution_count": null,
      "outputs": [
        {
          "output_type": "execute_result",
          "data": {
            "text/plain": [
              "array([1, 2, 3])"
            ]
          },
          "metadata": {},
          "execution_count": 74
        }
      ]
    },
    {
      "cell_type": "code",
      "source": [
        "result = np.where(arr < 2, \"low\", \"high\")"
      ],
      "metadata": {
        "id": "K8pekqtiNG8i"
      },
      "execution_count": null,
      "outputs": []
    },
    {
      "cell_type": "code",
      "source": [
        "result"
      ],
      "metadata": {
        "colab": {
          "base_uri": "https://localhost:8080/"
        },
        "id": "1jW-FLLhNgui",
        "outputId": "c1bc9081-383e-471c-e629-5f43eff816b3"
      },
      "execution_count": null,
      "outputs": [
        {
          "output_type": "execute_result",
          "data": {
            "text/plain": [
              "array(['low', 'high', 'high'], dtype='<U4')"
            ]
          },
          "metadata": {},
          "execution_count": 76
        }
      ]
    },
    {
      "cell_type": "code",
      "source": [
        "#logical and\n",
        "arr = np.array([100,2,3,4,5,6])"
      ],
      "metadata": {
        "id": "RC0C7o50Nigp"
      },
      "execution_count": null,
      "outputs": []
    },
    {
      "cell_type": "code",
      "source": [
        "arr"
      ],
      "metadata": {
        "colab": {
          "base_uri": "https://localhost:8080/"
        },
        "id": "nO1rTHUdOYzQ",
        "outputId": "0d0e540d-c1b8-4d13-f746-568a2633d309"
      },
      "execution_count": null,
      "outputs": [
        {
          "output_type": "execute_result",
          "data": {
            "text/plain": [
              "array([100,   2,   3,   4,   5,   6])"
            ]
          },
          "metadata": {},
          "execution_count": 78
        }
      ]
    },
    {
      "cell_type": "code",
      "source": [
        "mask = np.logical_and(arr > 3, arr < 6)"
      ],
      "metadata": {
        "id": "FQOxKUsiOasw"
      },
      "execution_count": null,
      "outputs": []
    },
    {
      "cell_type": "code",
      "source": [
        "mask # 4 = true ,5= true otherwise false"
      ],
      "metadata": {
        "colab": {
          "base_uri": "https://localhost:8080/"
        },
        "id": "cRp6ymRzOtdQ",
        "outputId": "f6e711c9-8dec-4a4a-a860-6848268bc59e"
      },
      "execution_count": null,
      "outputs": [
        {
          "output_type": "execute_result",
          "data": {
            "text/plain": [
              "array([False, False, False,  True,  True, False])"
            ]
          },
          "metadata": {},
          "execution_count": 80
        }
      ]
    },
    {
      "cell_type": "code",
      "source": [
        "arr[mask]"
      ],
      "metadata": {
        "colab": {
          "base_uri": "https://localhost:8080/"
        },
        "id": "6Fpk1aiIOvC_",
        "outputId": "739c7ec4-8ebc-418c-f69d-e1def4c2cb40"
      },
      "execution_count": null,
      "outputs": [
        {
          "output_type": "execute_result",
          "data": {
            "text/plain": [
              "array([4, 5])"
            ]
          },
          "metadata": {},
          "execution_count": 81
        }
      ]
    },
    {
      "cell_type": "code",
      "source": [
        "#logical or\n",
        "mask = np.logical_or(arr < 4, arr>5)"
      ],
      "metadata": {
        "id": "DP7ezUCjPBYI"
      },
      "execution_count": null,
      "outputs": []
    },
    {
      "cell_type": "code",
      "source": [
        "mask"
      ],
      "metadata": {
        "colab": {
          "base_uri": "https://localhost:8080/"
        },
        "id": "lE9_3iMGPezf",
        "outputId": "d35228a5-e668-4f02-b88e-3253a3dac8e5"
      },
      "execution_count": null,
      "outputs": [
        {
          "output_type": "execute_result",
          "data": {
            "text/plain": [
              "array([ True,  True,  True, False, False,  True])"
            ]
          },
          "metadata": {},
          "execution_count": 83
        }
      ]
    },
    {
      "cell_type": "code",
      "source": [
        "arr[mask]"
      ],
      "metadata": {
        "colab": {
          "base_uri": "https://localhost:8080/"
        },
        "id": "v0ZR1uiuPgcP",
        "outputId": "e2bf991e-1acd-4bd8-dfc2-57324f0780a2"
      },
      "execution_count": null,
      "outputs": [
        {
          "output_type": "execute_result",
          "data": {
            "text/plain": [
              "array([100,   2,   3,   6])"
            ]
          },
          "metadata": {},
          "execution_count": 84
        }
      ]
    },
    {
      "cell_type": "code",
      "source": [],
      "metadata": {
        "id": "rMDk0tzhPl6f"
      },
      "execution_count": null,
      "outputs": []
    },
    {
      "cell_type": "markdown",
      "source": [
        "# Broadcasting"
      ],
      "metadata": {
        "id": "8g_JEI3LQ9Qw"
      }
    },
    {
      "cell_type": "code",
      "source": [
        "img = np.array([[200,250],[100,250]])\n",
        "img"
      ],
      "metadata": {
        "id": "nhSzoqx_RBPt",
        "colab": {
          "base_uri": "https://localhost:8080/"
        },
        "outputId": "ee79dfd3-a464-4868-ad2a-3a2fd2127ad8"
      },
      "execution_count": null,
      "outputs": [
        {
          "output_type": "execute_result",
          "data": {
            "text/plain": [
              "array([[200, 250],\n",
              "       [100, 250]])"
            ]
          },
          "metadata": {},
          "execution_count": 87
        }
      ]
    },
    {
      "cell_type": "code",
      "source": [
        "brightness = img + 100"
      ],
      "metadata": {
        "id": "CxR5uF93LF8i"
      },
      "execution_count": null,
      "outputs": []
    },
    {
      "cell_type": "code",
      "source": [
        "brightness"
      ],
      "metadata": {
        "colab": {
          "base_uri": "https://localhost:8080/"
        },
        "id": "LW2zoXxfLTzY",
        "outputId": "719b9864-6714-4d49-8ce8-ef3c2fed8ed7"
      },
      "execution_count": null,
      "outputs": [
        {
          "output_type": "execute_result",
          "data": {
            "text/plain": [
              "array([[300, 350],\n",
              "       [200, 350]])"
            ]
          },
          "metadata": {},
          "execution_count": 89
        }
      ]
    },
    {
      "cell_type": "code",
      "source": [
        "img.shape"
      ],
      "metadata": {
        "colab": {
          "base_uri": "https://localhost:8080/"
        },
        "id": "WGg7fMeoLVuQ",
        "outputId": "02513864-e9a5-463f-b9fa-7c4353a84547"
      },
      "execution_count": null,
      "outputs": [
        {
          "output_type": "execute_result",
          "data": {
            "text/plain": [
              "(2, 2)"
            ]
          },
          "metadata": {},
          "execution_count": 90
        }
      ]
    },
    {
      "cell_type": "code",
      "source": [
        "brightness.shape"
      ],
      "metadata": {
        "colab": {
          "base_uri": "https://localhost:8080/"
        },
        "id": "Mm_OR-nELhMY",
        "outputId": "88ecf09d-1935-4932-c6b4-f3df78d61850"
      },
      "execution_count": null,
      "outputs": [
        {
          "output_type": "execute_result",
          "data": {
            "text/plain": [
              "(2, 2)"
            ]
          },
          "metadata": {},
          "execution_count": 91
        }
      ]
    },
    {
      "cell_type": "code",
      "source": [
        "#vectorization\n",
        "# np.vertorize()------> convert a regular function to be applied on ana array\n"
      ],
      "metadata": {
        "id": "8sFWy26FLjgh"
      },
      "execution_count": null,
      "outputs": []
    },
    {
      "cell_type": "code",
      "source": [
        "def square(x):\n",
        "  return x*x\n",
        "vfunc = np.vectorize(square)\n"
      ],
      "metadata": {
        "id": "aJys1xzIMWEo"
      },
      "execution_count": null,
      "outputs": []
    },
    {
      "cell_type": "code",
      "source": [
        "arr"
      ],
      "metadata": {
        "colab": {
          "base_uri": "https://localhost:8080/"
        },
        "id": "JNtGSepcMtkn",
        "outputId": "20350826-a7d0-4bf9-cdd7-2c51f04fbaed"
      },
      "execution_count": null,
      "outputs": [
        {
          "output_type": "execute_result",
          "data": {
            "text/plain": [
              "array([100,   2,   3,   4,   5,   6])"
            ]
          },
          "metadata": {},
          "execution_count": 94
        }
      ]
    },
    {
      "cell_type": "code",
      "source": [
        "print(vfunc(arr))"
      ],
      "metadata": {
        "colab": {
          "base_uri": "https://localhost:8080/"
        },
        "id": "Ib3Mwn94MxJ_",
        "outputId": "910f0017-59f7-4ab2-91ed-97cac55cc257"
      },
      "execution_count": null,
      "outputs": [
        {
          "output_type": "stream",
          "name": "stdout",
          "text": [
            "[10000     4     9    16    25    36]\n"
          ]
        }
      ]
    },
    {
      "cell_type": "markdown",
      "source": [
        "#Dealing with missing values\n",
        "##  np.nan-----> not a number"
      ],
      "metadata": {
        "id": "npaTbkMINN2n"
      }
    },
    {
      "cell_type": "code",
      "source": [
        "a = np.array([1,2,np.nan,4])"
      ],
      "metadata": {
        "id": "XZl5nrZKNRM1"
      },
      "execution_count": null,
      "outputs": []
    },
    {
      "cell_type": "code",
      "source": [
        "a"
      ],
      "metadata": {
        "colab": {
          "base_uri": "https://localhost:8080/"
        },
        "id": "wh1B76d-QeQy",
        "outputId": "4280baa5-e7b6-408a-ae90-a649e2a14a9e"
      },
      "execution_count": null,
      "outputs": [
        {
          "output_type": "execute_result",
          "data": {
            "text/plain": [
              "array([ 1.,  2., nan,  4.])"
            ]
          },
          "metadata": {},
          "execution_count": 97
        }
      ]
    },
    {
      "cell_type": "code",
      "source": [
        "# np.ing  and -np.inf------>possitive and neg infinite values\n",
        "# np.isnan\n",
        "# np.isinf\n",
        "# np.isfinite\n",
        "\n",
        "#--------> Used to the function to detect null values, infinite values and finite values"
      ],
      "metadata": {
        "id": "L8_UKFsHQe5B"
      },
      "execution_count": null,
      "outputs": []
    },
    {
      "cell_type": "code",
      "source": [
        "print(np.isnan(a))"
      ],
      "metadata": {
        "colab": {
          "base_uri": "https://localhost:8080/"
        },
        "id": "5BX9X_2hQ9A5",
        "outputId": "a1c7544c-3d76-4426-e79a-e28ba6ff58fe"
      },
      "execution_count": null,
      "outputs": [
        {
          "output_type": "stream",
          "name": "stdout",
          "text": [
            "[False False  True False]\n"
          ]
        }
      ]
    },
    {
      "cell_type": "code",
      "source": [
        "print(np.isinf(a))"
      ],
      "metadata": {
        "colab": {
          "base_uri": "https://localhost:8080/"
        },
        "id": "6IkiKF0vR5zI",
        "outputId": "1bee5fe8-e808-4687-d313-16f6596fd59f"
      },
      "execution_count": null,
      "outputs": [
        {
          "output_type": "stream",
          "name": "stdout",
          "text": [
            "[False False False False]\n"
          ]
        }
      ]
    },
    {
      "cell_type": "code",
      "source": [
        "print(np.isfinite(a))"
      ],
      "metadata": {
        "colab": {
          "base_uri": "https://localhost:8080/"
        },
        "id": "MiTLnQZaSDno",
        "outputId": "f05c7dff-c1bf-4cbd-c13a-97535c69ee29"
      },
      "execution_count": null,
      "outputs": [
        {
          "output_type": "stream",
          "name": "stdout",
          "text": [
            "[ True  True False  True]\n"
          ]
        }
      ]
    },
    {
      "cell_type": "code",
      "source": [
        "b = np.array([1,2,3,np.inf,5])"
      ],
      "metadata": {
        "id": "MuaepRivSIDv"
      },
      "execution_count": null,
      "outputs": []
    },
    {
      "cell_type": "code",
      "source": [
        "print(np.isinf(b))"
      ],
      "metadata": {
        "colab": {
          "base_uri": "https://localhost:8080/"
        },
        "id": "5KoSM8EfSdtf",
        "outputId": "aefe75fd-07a4-4678-87c5-a6cf0a59ce96"
      },
      "execution_count": null,
      "outputs": [
        {
          "output_type": "stream",
          "name": "stdout",
          "text": [
            "[False False False  True False]\n"
          ]
        }
      ]
    },
    {
      "cell_type": "code",
      "source": [],
      "metadata": {
        "id": "ESBPgkQeShc3"
      },
      "execution_count": null,
      "outputs": []
    }
  ]
}